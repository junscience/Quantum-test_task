{
 "cells": [
  {
   "cell_type": "code",
   "execution_count": 84,
   "id": "03ae026b",
   "metadata": {
    "tags": []
   },
   "outputs": [],
   "source": [
    "# Standart data analysis libraries\n",
    "import numpy as np\n",
    "import pandas as pd\n",
    "\n",
    "# Visualization\n",
    "import seaborn as sns\n",
    "\n",
    "# Models\n",
    "from sklearn.linear_model import LinearRegression\n",
    "from sklearn.preprocessing import PolynomialFeatures\n",
    "from sklearn.metrics import mean_squared_error as RMSE"
   ]
  },
  {
   "cell_type": "code",
   "execution_count": 85,
   "id": "cc996ba8",
   "metadata": {
    "tags": []
   },
   "outputs": [],
   "source": [
    "df = pd.read_csv('internship_train.csv')"
   ]
  },
  {
   "cell_type": "code",
   "execution_count": 86,
   "id": "a60521c4",
   "metadata": {
    "tags": []
   },
   "outputs": [
    {
     "data": {
      "text/html": [
       "<div>\n",
       "<style scoped>\n",
       "    .dataframe tbody tr th:only-of-type {\n",
       "        vertical-align: middle;\n",
       "    }\n",
       "\n",
       "    .dataframe tbody tr th {\n",
       "        vertical-align: top;\n",
       "    }\n",
       "\n",
       "    .dataframe thead th {\n",
       "        text-align: right;\n",
       "    }\n",
       "</style>\n",
       "<table border=\"1\" class=\"dataframe\">\n",
       "  <thead>\n",
       "    <tr style=\"text-align: right;\">\n",
       "      <th></th>\n",
       "      <th>0</th>\n",
       "      <th>1</th>\n",
       "      <th>2</th>\n",
       "      <th>3</th>\n",
       "      <th>4</th>\n",
       "      <th>5</th>\n",
       "      <th>6</th>\n",
       "      <th>7</th>\n",
       "      <th>8</th>\n",
       "      <th>9</th>\n",
       "      <th>...</th>\n",
       "      <th>44</th>\n",
       "      <th>45</th>\n",
       "      <th>46</th>\n",
       "      <th>47</th>\n",
       "      <th>48</th>\n",
       "      <th>49</th>\n",
       "      <th>50</th>\n",
       "      <th>51</th>\n",
       "      <th>52</th>\n",
       "      <th>target</th>\n",
       "    </tr>\n",
       "  </thead>\n",
       "  <tbody>\n",
       "    <tr>\n",
       "      <th>0</th>\n",
       "      <td>236</td>\n",
       "      <td>488</td>\n",
       "      <td>16</td>\n",
       "      <td>221</td>\n",
       "      <td>382</td>\n",
       "      <td>97</td>\n",
       "      <td>-4.472136</td>\n",
       "      <td>0.107472</td>\n",
       "      <td>0</td>\n",
       "      <td>132</td>\n",
       "      <td>...</td>\n",
       "      <td>13.340874</td>\n",
       "      <td>0.870542</td>\n",
       "      <td>1.962937</td>\n",
       "      <td>7.466666</td>\n",
       "      <td>11.547794</td>\n",
       "      <td>8.822916</td>\n",
       "      <td>9.046424</td>\n",
       "      <td>7.895535</td>\n",
       "      <td>11.010677</td>\n",
       "      <td>20.107472</td>\n",
       "    </tr>\n",
       "    <tr>\n",
       "      <th>1</th>\n",
       "      <td>386</td>\n",
       "      <td>206</td>\n",
       "      <td>357</td>\n",
       "      <td>232</td>\n",
       "      <td>1</td>\n",
       "      <td>198</td>\n",
       "      <td>7.810250</td>\n",
       "      <td>0.763713</td>\n",
       "      <td>1</td>\n",
       "      <td>143</td>\n",
       "      <td>...</td>\n",
       "      <td>12.484882</td>\n",
       "      <td>7.168680</td>\n",
       "      <td>2.885415</td>\n",
       "      <td>12.413973</td>\n",
       "      <td>10.260494</td>\n",
       "      <td>10.091351</td>\n",
       "      <td>9.270888</td>\n",
       "      <td>3.173994</td>\n",
       "      <td>13.921871</td>\n",
       "      <td>61.763713</td>\n",
       "    </tr>\n",
       "    <tr>\n",
       "      <th>2</th>\n",
       "      <td>429</td>\n",
       "      <td>49</td>\n",
       "      <td>481</td>\n",
       "      <td>111</td>\n",
       "      <td>111</td>\n",
       "      <td>146</td>\n",
       "      <td>8.602325</td>\n",
       "      <td>0.651162</td>\n",
       "      <td>1</td>\n",
       "      <td>430</td>\n",
       "      <td>...</td>\n",
       "      <td>14.030257</td>\n",
       "      <td>0.394970</td>\n",
       "      <td>8.160625</td>\n",
       "      <td>12.592059</td>\n",
       "      <td>8.937577</td>\n",
       "      <td>2.265191</td>\n",
       "      <td>11.255721</td>\n",
       "      <td>12.794841</td>\n",
       "      <td>12.080951</td>\n",
       "      <td>74.651162</td>\n",
       "    </tr>\n",
       "    <tr>\n",
       "      <th>3</th>\n",
       "      <td>414</td>\n",
       "      <td>350</td>\n",
       "      <td>481</td>\n",
       "      <td>370</td>\n",
       "      <td>208</td>\n",
       "      <td>158</td>\n",
       "      <td>8.306624</td>\n",
       "      <td>0.424645</td>\n",
       "      <td>1</td>\n",
       "      <td>340</td>\n",
       "      <td>...</td>\n",
       "      <td>2.789577</td>\n",
       "      <td>6.416708</td>\n",
       "      <td>10.549814</td>\n",
       "      <td>11.456437</td>\n",
       "      <td>6.468099</td>\n",
       "      <td>2.519049</td>\n",
       "      <td>0.258284</td>\n",
       "      <td>9.317696</td>\n",
       "      <td>5.383098</td>\n",
       "      <td>69.424645</td>\n",
       "    </tr>\n",
       "    <tr>\n",
       "      <th>4</th>\n",
       "      <td>318</td>\n",
       "      <td>359</td>\n",
       "      <td>20</td>\n",
       "      <td>218</td>\n",
       "      <td>317</td>\n",
       "      <td>301</td>\n",
       "      <td>8.124038</td>\n",
       "      <td>0.767304</td>\n",
       "      <td>1</td>\n",
       "      <td>212</td>\n",
       "      <td>...</td>\n",
       "      <td>1.886560</td>\n",
       "      <td>1.919999</td>\n",
       "      <td>2.268203</td>\n",
       "      <td>0.149421</td>\n",
       "      <td>4.105907</td>\n",
       "      <td>10.416291</td>\n",
       "      <td>6.816217</td>\n",
       "      <td>8.586960</td>\n",
       "      <td>4.512419</td>\n",
       "      <td>66.767304</td>\n",
       "    </tr>\n",
       "    <tr>\n",
       "      <th>5</th>\n",
       "      <td>70</td>\n",
       "      <td>299</td>\n",
       "      <td>297</td>\n",
       "      <td>350</td>\n",
       "      <td>428</td>\n",
       "      <td>359</td>\n",
       "      <td>5.830952</td>\n",
       "      <td>0.505189</td>\n",
       "      <td>1</td>\n",
       "      <td>73</td>\n",
       "      <td>...</td>\n",
       "      <td>1.486867</td>\n",
       "      <td>0.366128</td>\n",
       "      <td>11.245683</td>\n",
       "      <td>6.116113</td>\n",
       "      <td>9.315978</td>\n",
       "      <td>4.063209</td>\n",
       "      <td>7.156703</td>\n",
       "      <td>12.132241</td>\n",
       "      <td>14.141104</td>\n",
       "      <td>34.505189</td>\n",
       "    </tr>\n",
       "    <tr>\n",
       "      <th>6</th>\n",
       "      <td>457</td>\n",
       "      <td>363</td>\n",
       "      <td>162</td>\n",
       "      <td>67</td>\n",
       "      <td>388</td>\n",
       "      <td>326</td>\n",
       "      <td>-1.414214</td>\n",
       "      <td>0.604309</td>\n",
       "      <td>0</td>\n",
       "      <td>258</td>\n",
       "      <td>...</td>\n",
       "      <td>8.260282</td>\n",
       "      <td>5.239815</td>\n",
       "      <td>1.163579</td>\n",
       "      <td>10.797268</td>\n",
       "      <td>5.819056</td>\n",
       "      <td>4.451118</td>\n",
       "      <td>14.645322</td>\n",
       "      <td>11.739865</td>\n",
       "      <td>14.763017</td>\n",
       "      <td>2.604309</td>\n",
       "    </tr>\n",
       "    <tr>\n",
       "      <th>7</th>\n",
       "      <td>414</td>\n",
       "      <td>271</td>\n",
       "      <td>163</td>\n",
       "      <td>317</td>\n",
       "      <td>359</td>\n",
       "      <td>116</td>\n",
       "      <td>-6.324555</td>\n",
       "      <td>0.022464</td>\n",
       "      <td>0</td>\n",
       "      <td>485</td>\n",
       "      <td>...</td>\n",
       "      <td>5.925065</td>\n",
       "      <td>6.080010</td>\n",
       "      <td>11.318467</td>\n",
       "      <td>11.013787</td>\n",
       "      <td>12.137311</td>\n",
       "      <td>2.759765</td>\n",
       "      <td>10.537518</td>\n",
       "      <td>4.243830</td>\n",
       "      <td>3.232530</td>\n",
       "      <td>40.022464</td>\n",
       "    </tr>\n",
       "    <tr>\n",
       "      <th>8</th>\n",
       "      <td>420</td>\n",
       "      <td>85</td>\n",
       "      <td>378</td>\n",
       "      <td>71</td>\n",
       "      <td>243</td>\n",
       "      <td>301</td>\n",
       "      <td>-8.602325</td>\n",
       "      <td>0.228071</td>\n",
       "      <td>0</td>\n",
       "      <td>401</td>\n",
       "      <td>...</td>\n",
       "      <td>5.483159</td>\n",
       "      <td>1.534398</td>\n",
       "      <td>4.690240</td>\n",
       "      <td>11.142059</td>\n",
       "      <td>12.290323</td>\n",
       "      <td>1.975012</td>\n",
       "      <td>11.061706</td>\n",
       "      <td>14.486846</td>\n",
       "      <td>13.244187</td>\n",
       "      <td>74.228071</td>\n",
       "    </tr>\n",
       "    <tr>\n",
       "      <th>9</th>\n",
       "      <td>445</td>\n",
       "      <td>304</td>\n",
       "      <td>359</td>\n",
       "      <td>298</td>\n",
       "      <td>141</td>\n",
       "      <td>369</td>\n",
       "      <td>8.774964</td>\n",
       "      <td>0.919384</td>\n",
       "      <td>1</td>\n",
       "      <td>63</td>\n",
       "      <td>...</td>\n",
       "      <td>12.267670</td>\n",
       "      <td>4.999463</td>\n",
       "      <td>0.376892</td>\n",
       "      <td>0.121794</td>\n",
       "      <td>0.914422</td>\n",
       "      <td>12.471633</td>\n",
       "      <td>13.760204</td>\n",
       "      <td>14.500278</td>\n",
       "      <td>4.583603</td>\n",
       "      <td>77.919384</td>\n",
       "    </tr>\n",
       "  </tbody>\n",
       "</table>\n",
       "<p>10 rows × 54 columns</p>\n",
       "</div>"
      ],
      "text/plain": [
       "     0    1    2    3    4    5         6         7  8    9  ...         44   \n",
       "0  236  488   16  221  382   97 -4.472136  0.107472  0  132  ...  13.340874  \\\n",
       "1  386  206  357  232    1  198  7.810250  0.763713  1  143  ...  12.484882   \n",
       "2  429   49  481  111  111  146  8.602325  0.651162  1  430  ...  14.030257   \n",
       "3  414  350  481  370  208  158  8.306624  0.424645  1  340  ...   2.789577   \n",
       "4  318  359   20  218  317  301  8.124038  0.767304  1  212  ...   1.886560   \n",
       "5   70  299  297  350  428  359  5.830952  0.505189  1   73  ...   1.486867   \n",
       "6  457  363  162   67  388  326 -1.414214  0.604309  0  258  ...   8.260282   \n",
       "7  414  271  163  317  359  116 -6.324555  0.022464  0  485  ...   5.925065   \n",
       "8  420   85  378   71  243  301 -8.602325  0.228071  0  401  ...   5.483159   \n",
       "9  445  304  359  298  141  369  8.774964  0.919384  1   63  ...  12.267670   \n",
       "\n",
       "         45         46         47         48         49         50         51   \n",
       "0  0.870542   1.962937   7.466666  11.547794   8.822916   9.046424   7.895535  \\\n",
       "1  7.168680   2.885415  12.413973  10.260494  10.091351   9.270888   3.173994   \n",
       "2  0.394970   8.160625  12.592059   8.937577   2.265191  11.255721  12.794841   \n",
       "3  6.416708  10.549814  11.456437   6.468099   2.519049   0.258284   9.317696   \n",
       "4  1.919999   2.268203   0.149421   4.105907  10.416291   6.816217   8.586960   \n",
       "5  0.366128  11.245683   6.116113   9.315978   4.063209   7.156703  12.132241   \n",
       "6  5.239815   1.163579  10.797268   5.819056   4.451118  14.645322  11.739865   \n",
       "7  6.080010  11.318467  11.013787  12.137311   2.759765  10.537518   4.243830   \n",
       "8  1.534398   4.690240  11.142059  12.290323   1.975012  11.061706  14.486846   \n",
       "9  4.999463   0.376892   0.121794   0.914422  12.471633  13.760204  14.500278   \n",
       "\n",
       "          52     target  \n",
       "0  11.010677  20.107472  \n",
       "1  13.921871  61.763713  \n",
       "2  12.080951  74.651162  \n",
       "3   5.383098  69.424645  \n",
       "4   4.512419  66.767304  \n",
       "5  14.141104  34.505189  \n",
       "6  14.763017   2.604309  \n",
       "7   3.232530  40.022464  \n",
       "8  13.244187  74.228071  \n",
       "9   4.583603  77.919384  \n",
       "\n",
       "[10 rows x 54 columns]"
      ]
     },
     "execution_count": 86,
     "metadata": {},
     "output_type": "execute_result"
    }
   ],
   "source": [
    "df.head(10)"
   ]
  },
  {
   "cell_type": "code",
   "execution_count": 87,
   "id": "8934e85e",
   "metadata": {
    "tags": []
   },
   "outputs": [
    {
     "data": {
      "text/plain": [
       "(90000, 54)"
      ]
     },
     "execution_count": 87,
     "metadata": {},
     "output_type": "execute_result"
    }
   ],
   "source": [
    "df.shape"
   ]
  },
  {
   "cell_type": "code",
   "execution_count": 88,
   "id": "3a1a009d",
   "metadata": {
    "tags": []
   },
   "outputs": [
    {
     "name": "stdout",
     "output_type": "stream",
     "text": [
      "<class 'pandas.core.frame.DataFrame'>\n",
      "RangeIndex: 90000 entries, 0 to 89999\n",
      "Data columns (total 54 columns):\n",
      " #   Column  Non-Null Count  Dtype  \n",
      "---  ------  --------------  -----  \n",
      " 0   0       90000 non-null  int64  \n",
      " 1   1       90000 non-null  int64  \n",
      " 2   2       90000 non-null  int64  \n",
      " 3   3       90000 non-null  int64  \n",
      " 4   4       90000 non-null  int64  \n",
      " 5   5       90000 non-null  int64  \n",
      " 6   6       90000 non-null  float64\n",
      " 7   7       90000 non-null  float64\n",
      " 8   8       90000 non-null  int64  \n",
      " 9   9       90000 non-null  int64  \n",
      " 10  10      90000 non-null  int64  \n",
      " 11  11      90000 non-null  int64  \n",
      " 12  12      90000 non-null  int64  \n",
      " 13  13      90000 non-null  float64\n",
      " 14  14      90000 non-null  float64\n",
      " 15  15      90000 non-null  float64\n",
      " 16  16      90000 non-null  float64\n",
      " 17  17      90000 non-null  float64\n",
      " 18  18      90000 non-null  float64\n",
      " 19  19      90000 non-null  float64\n",
      " 20  20      90000 non-null  float64\n",
      " 21  21      90000 non-null  float64\n",
      " 22  22      90000 non-null  float64\n",
      " 23  23      90000 non-null  float64\n",
      " 24  24      90000 non-null  float64\n",
      " 25  25      90000 non-null  float64\n",
      " 26  26      90000 non-null  float64\n",
      " 27  27      90000 non-null  float64\n",
      " 28  28      90000 non-null  float64\n",
      " 29  29      90000 non-null  float64\n",
      " 30  30      90000 non-null  float64\n",
      " 31  31      90000 non-null  float64\n",
      " 32  32      90000 non-null  float64\n",
      " 33  33      90000 non-null  float64\n",
      " 34  34      90000 non-null  float64\n",
      " 35  35      90000 non-null  float64\n",
      " 36  36      90000 non-null  float64\n",
      " 37  37      90000 non-null  float64\n",
      " 38  38      90000 non-null  float64\n",
      " 39  39      90000 non-null  float64\n",
      " 40  40      90000 non-null  float64\n",
      " 41  41      90000 non-null  float64\n",
      " 42  42      90000 non-null  float64\n",
      " 43  43      90000 non-null  float64\n",
      " 44  44      90000 non-null  float64\n",
      " 45  45      90000 non-null  float64\n",
      " 46  46      90000 non-null  float64\n",
      " 47  47      90000 non-null  float64\n",
      " 48  48      90000 non-null  float64\n",
      " 49  49      90000 non-null  float64\n",
      " 50  50      90000 non-null  float64\n",
      " 51  51      90000 non-null  float64\n",
      " 52  52      90000 non-null  float64\n",
      " 53  target  90000 non-null  float64\n",
      "dtypes: float64(43), int64(11)\n",
      "memory usage: 37.1 MB\n"
     ]
    }
   ],
   "source": [
    "df.info()"
   ]
  },
  {
   "cell_type": "code",
   "execution_count": 89,
   "id": "1b548a3e",
   "metadata": {
    "tags": []
   },
   "outputs": [
    {
     "data": {
      "text/plain": [
       "<seaborn.axisgrid.PairGrid at 0x7fd3a09605b0>"
      ]
     },
     "execution_count": 89,
     "metadata": {},
     "output_type": "execute_result"
    },
    {
     "data": {
      "image/png": "[encoded data removed]",
      "text/plain": [
       "<Figure size 500x500 with 6 Axes>"
      ]
     },
     "metadata": {},
     "output_type": "display_data"
    }
   ],
   "source": [
    "sns.pairplot(df[['6','target']])"
   ]
  },
  {
   "cell_type": "code",
   "execution_count": 90,
   "id": "23112d43",
   "metadata": {
    "tags": []
   },
   "outputs": [
    {
     "data": {
      "text/plain": [
       "array([-4.47213595,  7.81024968,  8.60232527, ...,  6.164414  ,\n",
       "       -3.60555128,  7.68114575])"
      ]
     },
     "execution_count": 90,
     "metadata": {},
     "output_type": "execute_result"
    }
   ],
   "source": [
    "x = df['6'].values\n",
    "x"
   ]
  },
  {
   "cell_type": "code",
   "execution_count": 91,
   "id": "c93c65da",
   "metadata": {
    "tags": []
   },
   "outputs": [
    {
     "data": {
      "text/plain": [
       "array([20.10747174, 61.76371332, 74.651162  , ..., 38.63370433,\n",
       "       13.68730853, 59.61320747])"
      ]
     },
     "execution_count": 91,
     "metadata": {},
     "output_type": "execute_result"
    }
   ],
   "source": [
    "target = df['target'].values\n",
    "target"
   ]
  },
  {
   "cell_type": "code",
   "execution_count": 92,
   "id": "2ae2220e-caa9-40fc-80b8-66fd87723854",
   "metadata": {
    "tags": []
   },
   "outputs": [],
   "source": [
    "poly = PolynomialFeatures(degree=2, include_bias=False)"
   ]
  },
  {
   "cell_type": "code",
   "execution_count": 93,
   "id": "7199571d-a172-4e18-90b3-48cd4daeada0",
   "metadata": {
    "tags": []
   },
   "outputs": [],
   "source": [
    "poly_features = poly.fit_transform(x.reshape(-1, 1))"
   ]
  },
  {
   "cell_type": "code",
   "execution_count": 94,
   "id": "1d614edb-300f-416f-b6f7-ff44c1a84989",
   "metadata": {
    "tags": []
   },
   "outputs": [],
   "source": [
    "poly_reg_model = LinearRegression()"
   ]
  },
  {
   "cell_type": "code",
   "execution_count": 95,
   "id": "0c0026c1-b000-4c2c-8dd2-1719dfce38af",
   "metadata": {
    "tags": []
   },
   "outputs": [],
   "source": [
    "model = poly_reg_model.fit(poly_features, target)"
   ]
  },
  {
   "cell_type": "code",
   "execution_count": 96,
   "id": "57326efc-c164-4e99-af07-0be92623039a",
   "metadata": {
    "tags": []
   },
   "outputs": [
    {
     "data": {
      "text/plain": [
       "array([20.49829929, 61.49813125, 74.49833919, ..., 38.49778394,\n",
       "       13.49807844, 59.49809987])"
      ]
     },
     "execution_count": 96,
     "metadata": {},
     "output_type": "execute_result"
    }
   ],
   "source": [
    "y_predicted = model.predict(poly_features)\n",
    "y_predicted"
   ]
  },
  {
   "cell_type": "code",
   "execution_count": 97,
   "id": "88fcccca-4665-4469-b6d4-7ca46dfe3fee",
   "metadata": {
    "tags": []
   },
   "outputs": [
    {
     "data": {
      "text/plain": [
       "0.08333588078969474"
      ]
     },
     "execution_count": 97,
     "metadata": {},
     "output_type": "execute_result"
    }
   ],
   "source": [
    "RMSE(target, y_predicted)"
   ]
  },
  {
   "cell_type": "code",
   "execution_count": 98,
   "id": "2b265153",
   "metadata": {
    "tags": []
   },
   "outputs": [],
   "source": [
    "test = pd.read_csv('internship_hidden_test.csv')"
   ]
  },
  {
   "cell_type": "code",
   "execution_count": 99,
   "id": "69db045d",
   "metadata": {
    "tags": []
   },
   "outputs": [],
   "source": [
    "poly_test_feature = poly.fit_transform(test['6'].values.reshape(-1,1))"
   ]
  },
  {
   "cell_type": "code",
   "execution_count": 100,
   "id": "50f01b2a-9d26-4fe2-869c-4397889af18e",
   "metadata": {
    "tags": []
   },
   "outputs": [],
   "source": [
    "prediction = model.predict(poly_test_feature)"
   ]
  },
  {
   "cell_type": "code",
   "execution_count": 101,
   "id": "e9df72ee",
   "metadata": {
    "tags": []
   },
   "outputs": [],
   "source": [
    "pd.DataFrame({'prediction':prediction}).to_csv('Solution.csv')"
   ]
  },
  {
   "cell_type": "code",
   "execution_count": null,
   "id": "9c83af07-1f8f-4827-a15b-d2c98637a76e",
   "metadata": {},
   "outputs": [],
   "source": []
  }
 ],
 "metadata": {
  "kernelspec": {
   "display_name": "Python 3 (ipykernel)",
   "language": "python",
   "name": "python3"
  },
  "language_info": {
   "codemirror_mode": {
    "name": "ipython",
    "version": 3
   },
   "file_extension": ".py",
   "mimetype": "text/x-python",
   "name": "python",
   "nbconvert_exporter": "python",
   "pygments_lexer": "ipython3",
   "version": "3.10.7"
  }
 },
 "nbformat": 4,
 "nbformat_minor": 5
}
